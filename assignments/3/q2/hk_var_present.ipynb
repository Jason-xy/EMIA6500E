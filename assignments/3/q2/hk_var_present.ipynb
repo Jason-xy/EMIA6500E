{
 "cells": [
  {
   "cell_type": "markdown",
   "metadata": {},
   "source": [
    "# import packages"
   ]
  },
  {
   "cell_type": "code",
   "execution_count": 5,
   "metadata": {},
   "outputs": [],
   "source": [
    "from sklearn.model_selection import train_test_split\n",
    "from sklearn.linear_model import LinearRegression\n",
    "from sklearn.preprocessing import PolynomialFeatures\n",
    "from sklearn.metrics import mean_squared_error\n",
    "import numpy as np\n",
    "import pandas as pd\n",
    "import os"
   ]
  },
  {
   "cell_type": "markdown",
   "metadata": {},
   "source": [
    "# Load the data"
   ]
  },
  {
   "cell_type": "code",
   "execution_count": 6,
   "metadata": {},
   "outputs": [],
   "source": [
    "data_path = os.path.join(os.getcwd(), 'hk_var_present.txt')\n",
    "data = pd.read_csv(data_path, delimiter='\\t')\n",
    "\n",
    "# Extract relevant data for a specific period within a year\n",
    "# Assuming I pick the year 2015 and days from March 15 (74th day) to August 15 (227th day)\n",
    "start_day = 74\n",
    "end_day = 227\n",
    "temperature = data['Temperature (K)'].iloc[start_day:end_day+1]\n",
    "\n",
    "# Split the data into training, validation, and test sets\n",
    "X = np.arange(start_day, end_day+1).reshape(-1, 1)  # Day of the year as input\n",
    "y = temperature.values\n",
    "X_train_val, X_test, y_train_val, y_test = train_test_split(X, y, test_size=0.25, random_state=42)\n",
    "X_train, X_val, y_train, y_val = train_test_split(X_train_val, y_train_val, test_size=1/3, random_state=42)"
   ]
  },
  {
   "cell_type": "markdown",
   "metadata": {},
   "source": [
    "# Create polynomial features"
   ]
  },
  {
   "cell_type": "code",
   "execution_count": 11,
   "metadata": {},
   "outputs": [
    {
     "name": "stdout",
     "output_type": "stream",
     "text": [
      "Polynomial order: 1, Validation MSE: 1.2150034553195335\n",
      "Polynomial order: 2, Validation MSE: 0.38313552710690324\n",
      "Polynomial order: 3, Validation MSE: 0.3800358444117739\n",
      "Polynomial order: 4, Validation MSE: 0.4181822676405261\n",
      "Polynomial order: 5, Validation MSE: 0.4157344773948194\n",
      "Polynomial order: 6, Validation MSE: 0.39319154668889017\n",
      "Polynomial order: 7, Validation MSE: 0.48647774314723463\n",
      "Polynomial order: 8, Validation MSE: 0.5395470123182999\n",
      "Polynomial order: 9, Validation MSE: 0.29613257425333994\n",
      "Polynomial order: 10, Validation MSE: 0.2731080070515161\n",
      "Polynomial order: 11, Validation MSE: 0.29038927623631533\n",
      "Polynomial order: 12, Validation MSE: 0.3755576105294413\n",
      "Polynomial order: 13, Validation MSE: 0.5122247151225124\n",
      "Polynomial order: 14, Validation MSE: 0.6800308293819323\n",
      "Polynomial order: 15, Validation MSE: 0.8929572090601576\n",
      "Polynomial order: 16, Validation MSE: 1.1726937036667378\n",
      "Polynomial order: 17, Validation MSE: 1.5224676884911585\n",
      "Polynomial order: 18, Validation MSE: 1.9275830532567\n",
      "Polynomial order: 19, Validation MSE: 2.3599123297343225\n",
      "Polynomial order: 20, Validation MSE: 2.779389694696129\n",
      "Best polynomial order: 10\n",
      "Validation MSE: 0.2731080070515161\n"
     ]
    }
   ],
   "source": [
    "best_order = None\n",
    "best_mse = float('inf')\n",
    "best_model = None\n",
    "\n",
    "for order in range(1, 21):  # Let's try polynomial orders from 1 to 20\n",
    "    poly = PolynomialFeatures(degree=order)\n",
    "    X_train_poly = poly.fit_transform(X_train)\n",
    "    X_val_poly = poly.transform(X_val)\n",
    "\n",
    "    # Train the model\n",
    "    model = LinearRegression().fit(X_train_poly, y_train)\n",
    "\n",
    "    # Evaluate the model\n",
    "    y_val_pred = model.predict(X_val_poly)\n",
    "    mse = mean_squared_error(y_val, y_val_pred)\n",
    "    print(f\"Polynomial order: {order}, Validation MSE: {mse}\")\n",
    "\n",
    "    if mse < best_mse:\n",
    "        best_mse = mse\n",
    "        best_order = order\n",
    "        best_model = model\n",
    "\n",
    "print(f\"Best polynomial order: {best_order}\")\n",
    "print(f\"Validation MSE: {best_mse}\")"
   ]
  },
  {
   "cell_type": "markdown",
   "metadata": {},
   "source": [
    "# Evaluate the final model on the test set"
   ]
  },
  {
   "cell_type": "code",
   "execution_count": 12,
   "metadata": {},
   "outputs": [
    {
     "name": "stdout",
     "output_type": "stream",
     "text": [
      "Test MSE: 0.9469357117332293\n"
     ]
    }
   ],
   "source": [
    "X_test_poly = PolynomialFeatures(degree=best_order).fit_transform(X_test)\n",
    "y_test_pred = best_model.predict(X_test_poly)\n",
    "test_mse = mean_squared_error(y_test, y_test_pred)\n",
    "print(f\"Test MSE: {test_mse}\")"
   ]
  }
 ],
 "metadata": {
  "kernelspec": {
   "display_name": "emia6500",
   "language": "python",
   "name": "python3"
  },
  "language_info": {
   "codemirror_mode": {
    "name": "ipython",
    "version": 3
   },
   "file_extension": ".py",
   "mimetype": "text/x-python",
   "name": "python",
   "nbconvert_exporter": "python",
   "pygments_lexer": "ipython3",
   "version": "3.11.7"
  }
 },
 "nbformat": 4,
 "nbformat_minor": 2
}

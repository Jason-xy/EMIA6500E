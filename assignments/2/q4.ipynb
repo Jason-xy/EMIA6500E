{
 "cells": [
  {
   "cell_type": "markdown",
   "metadata": {},
   "source": [
    "# Import Packages"
   ]
  },
  {
   "cell_type": "code",
   "execution_count": 1,
   "metadata": {},
   "outputs": [],
   "source": [
    "import torch\n",
    "import torch.nn as nn\n",
    "import torch.optim as optim\n",
    "import numpy as np\n",
    "from torch.utils.data import DataLoader\n",
    "from torch.utils.data import Dataset\n",
    "from sklearn.model_selection import train_test_split\n",
    "import matplotlib.pyplot as plt\n",
    "import time"
   ]
  },
  {
   "cell_type": "markdown",
   "metadata": {},
   "source": [
    "# Get the boston housing dataset"
   ]
  },
  {
   "cell_type": "code",
   "execution_count": 2,
   "metadata": {},
   "outputs": [
    {
     "name": "stdout",
     "output_type": "stream",
     "text": [
      "(506, 13) (506,)\n"
     ]
    }
   ],
   "source": [
    "import pandas as pd\n",
    "data_url = \"http://lib.stat.cmu.edu/datasets/boston\"\n",
    "raw_df = pd.read_csv(data_url, sep=\"\\s+\", skiprows=22, header=None)\n",
    "data = np.hstack([raw_df.values[::2, :], raw_df.values[1::2, :3]])\n",
    "columns = [\n",
    "    \"CRIM\", \"ZN\", \"INDUS\", \"CHAS\", \"NOX\", \"RM\", \"AGE\", \"DIS\", \"RAD\", \"TAX\",\n",
    "    \"PTRATIO\", \"B\", \"LSTAT\", \"MEDV\"\n",
    "]\n",
    "df = pd.DataFrame(data, columns=columns)\n",
    "x = df.iloc[:, :13].values\n",
    "y = df['MEDV'].values\n",
    "print(x.shape, y.shape)"
   ]
  },
  {
   "cell_type": "markdown",
   "metadata": {},
   "source": [
    "# Build Dataset and DataLoader"
   ]
  },
  {
   "cell_type": "code",
   "execution_count": 3,
   "metadata": {},
   "outputs": [],
   "source": [
    "class MyDataset(Dataset):\n",
    "    def __init__(self, x, y):\n",
    "        self.x = x\n",
    "        self.y = y\n",
    "\n",
    "    def __len__(self):\n",
    "        return len(self.x)\n",
    "\n",
    "    def __getitem__(self, idx):\n",
    "        return self.x[idx], self.y[idx]\n",
    "\n",
    "# split train, val, test\n",
    "# train: 60%, val: 20%, test: 20%\n",
    "x_train, x_test, y_train, y_test = train_test_split(x, y, test_size=0.2, random_state=42)\n",
    "x_train, x_val, y_train, y_val = train_test_split(x_train, y_train, test_size=0.25, random_state=42)\n",
    "\n",
    "\n",
    "train_dataset = MyDataset(x_train, y_train)\n",
    "val_dataset = MyDataset(x_val, y_val)\n",
    "test_dataset = MyDataset(x_test, y_test)"
   ]
  },
  {
   "cell_type": "markdown",
   "metadata": {},
   "source": [
    "# Implement the gradient descent optimizer:"
   ]
  },
  {
   "cell_type": "code",
   "execution_count": 4,
   "metadata": {},
   "outputs": [],
   "source": [
    "# Compute loss\n",
    "def compute_loss(X, y, weights):\n",
    "    predictions = X @ weights\n",
    "    errors = predictions - y\n",
    "    return np.mean(errors ** 2) / 2\n",
    "\n",
    "# Compute gradients\n",
    "def compute_gradients(X, y, weights):\n",
    "    predictions = X @ weights\n",
    "    errors = predictions - y\n",
    "    gradients = X.T @ errors / len(y)\n",
    "    return gradients\n",
    "\n",
    "# Feature scaling with epsilon to avoid division by zero\n",
    "def scale_features(X):\n",
    "    means = np.mean(X, axis=0)\n",
    "    stds = np.std(X, axis=0)\n",
    "    epsilon = 1e-8  # Small value to ensure we don't divide by zero\n",
    "    return (X - means) / (stds + epsilon)\n",
    "\n",
    "# Full batch gradient descent with feature scaling\n",
    "def full_batch_gradient_descent(X, y, learning_rate=0.001, n_iterations=100000, tolerance=1e-12):\n",
    "    # Feature scaling\n",
    "    X_scaled = scale_features(X)\n",
    "    # Adding a column of ones to account for the bias term (intercept)\n",
    "    X_scaled = np.hstack([np.ones((X_scaled.shape[0], 1)), X_scaled])\n",
    "\n",
    "    weights = np.zeros(X_scaled.shape[1])\n",
    "    loss_history = []\n",
    "    previous_loss = float('inf')\n",
    "\n",
    "    for i in range(n_iterations):\n",
    "        gradients = compute_gradients(X_scaled, y, weights)\n",
    "        weights -= learning_rate * gradients\n",
    "        loss = compute_loss(X_scaled, y, weights)\n",
    "        loss_history.append(loss)\n",
    "\n",
    "        # Convergence check\n",
    "        if abs(previous_loss - loss) < tolerance:\n",
    "            print(f'Convergence reached at iteration {i}.')\n",
    "            break\n",
    "        previous_loss = loss\n",
    "\n",
    "        if i % 100000 == 0:  # More frequent updates to track progress\n",
    "            print(f'[Full batch] Iteration {i}, loss: {loss}')\n",
    "\n",
    "    return weights, loss_history\n",
    "\n",
    "# Stochastic gradient descent with feature scaling\n",
    "def stochastic_gradient_descent(X, y, learning_rate=0.001, n_iterations=100000, batch_size=1):\n",
    "    # Feature scaling\n",
    "    X_scaled = scale_features(X)\n",
    "    # Adding a column of ones to account for the bias term (intercept)\n",
    "    X_scaled = np.hstack([np.ones((X_scaled.shape[0], 1)), X_scaled])\n",
    "\n",
    "    weights = np.zeros(X_scaled.shape[1])\n",
    "    loss_history = []\n",
    "    n_samples = len(y)\n",
    "\n",
    "    for i in range(n_iterations):\n",
    "        indices = np.random.choice(n_samples, batch_size, replace=False)\n",
    "        X_batch = X_scaled[indices]\n",
    "        y_batch = y[indices]\n",
    "        gradients = compute_gradients(X_batch, y_batch, weights)\n",
    "        weights -= learning_rate * gradients\n",
    "        loss = compute_loss(X_scaled, y, weights)\n",
    "        loss_history.append(loss)\n",
    "\n",
    "        if i % 100000 == 0:  # More frequent updates to track progress\n",
    "            print(f'[SGD] Iteration {i}, loss: {loss}')\n",
    "\n",
    "    return weights, loss_history"
   ]
  },
  {
   "cell_type": "markdown",
   "metadata": {},
   "source": [
    "# Perform Training"
   ]
  },
  {
   "cell_type": "code",
   "execution_count": 5,
   "metadata": {},
   "outputs": [
    {
     "name": "stdout",
     "output_type": "stream",
     "text": [
      "[Full batch] Iteration 0, loss: 304.6162242888869\n",
      "[Full batch] Iteration 100000, loss: 48.516137294562036\n",
      "[Full batch] Iteration 200000, loss: 16.480132016878883\n",
      "[Full batch] Iteration 300000, loss: 12.010927414067474\n",
      "[Full batch] Iteration 400000, loss: 11.295223841089348\n",
      "[Full batch] Iteration 500000, loss: 11.120766792672427\n",
      "[Full batch] Iteration 600000, loss: 11.04129061271373\n",
      "[Full batch] Iteration 700000, loss: 10.989325578905003\n",
      "[Full batch] Iteration 800000, loss: 10.951401822310547\n",
      "[Full batch] Iteration 900000, loss: 10.92282719115038\n",
      "Full batch gradient descent took 14.26 seconds\n",
      "[SGD] Iteration 0, loss: 304.6151748139589\n",
      "[SGD] Iteration 100000, loss: 48.50951146433407\n",
      "[SGD] Iteration 200000, loss: 16.4771354938917\n",
      "[SGD] Iteration 300000, loss: 12.011038813804502\n",
      "[SGD] Iteration 400000, loss: 11.295600077027212\n",
      "[SGD] Iteration 500000, loss: 11.121036001740308\n",
      "[SGD] Iteration 600000, loss: 11.041398493078143\n",
      "[SGD] Iteration 700000, loss: 10.989294987934562\n",
      "[SGD] Iteration 800000, loss: 10.95138461460176\n",
      "[SGD] Iteration 900000, loss: 10.922720327250529\n",
      "Stochastic gradient descent took 34.08 seconds\n"
     ]
    },
    {
     "data": {
      "image/png": "[encoded data removed]",
      "text/plain": [
       "<Figure size 640x480 with 1 Axes>"
      ]
     },
     "metadata": {},
     "output_type": "display_data"
    }
   ],
   "source": [
    "# Add a column of ones to the feature set to account for the bias term\n",
    "x_train_with_bias = np.hstack((np.ones((len(train_dataset), 1)), train_dataset[:][0]))\n",
    "x_val_with_bias = np.hstack((np.ones((len(val_dataset), 1)), val_dataset[:][0]))\n",
    "x_test_with_bias = np.hstack((np.ones((len(test_dataset), 1)), test_dataset[:][0]))\n",
    "\n",
    "# Perform full-batch gradient descent\n",
    "start_time = time.time()\n",
    "weights_full_batch, loss_history_full_batch = full_batch_gradient_descent(x_train_with_bias, y_train, learning_rate=0.00001, n_iterations=1000000)\n",
    "end_time = time.time()\n",
    "print(f'Full batch gradient descent took {end_time - start_time:.2f} seconds')\n",
    "\n",
    "# Perform stochastic gradient descent with mini-batches\n",
    "start_time = time.time()\n",
    "weights_sgd, loss_history_sgd = stochastic_gradient_descent(x_train_with_bias, y_train, learning_rate=0.00001, n_iterations=1000000, batch_size=128)\n",
    "end_time = time.time()\n",
    "print(f'Stochastic gradient descent took {end_time - start_time:.2f} seconds')\n",
    "\n",
    "# Plot the loss history for comparison\n",
    "plt.plot(loss_history_full_batch, label='Full Batch Gradient Descent')\n",
    "plt.plot(loss_history_sgd, label='Stochastic Gradient Descent (Mini-Batch)')\n",
    "plt.title('Loss History')\n",
    "plt.xlabel('Iteration')\n",
    "plt.ylabel('Loss')\n",
    "plt.legend()\n",
    "plt.show()"
   ]
  },
  {
   "cell_type": "markdown",
   "metadata": {},
   "source": [
    "# Predictions and Evaluation"
   ]
  },
  {
   "cell_type": "code",
   "execution_count": 7,
   "metadata": {},
   "outputs": [
    {
     "name": "stdout",
     "output_type": "stream",
     "text": [
      "MSE (Full Batch): 23.371822192047716\n",
      "MSE (SGD Mini-Batch): 23.37056490573411\n"
     ]
    }
   ],
   "source": [
    "# Function to predict values using learned weights\n",
    "def predict(X, weights):\n",
    "    X = scale_features(X)\n",
    "    X = np.hstack([np.ones((X.shape[0], 1)), X])\n",
    "    return X @ weights\n",
    "\n",
    "# Function to calculate the mean squared error\n",
    "def calculate_mse(y_true, y_pred):\n",
    "    return np.mean((y_true - y_pred) ** 2)\n",
    "\n",
    "# Predict values on the validation set\n",
    "y_pred_full_batch = predict(x_val_with_bias, weights_full_batch)\n",
    "y_pred_sgd = predict(x_val_with_bias, weights_sgd)\n",
    "\n",
    "# Compare the weights learned from both methods with the true parameters\n",
    "print(f\"MSE (Full Batch): {calculate_mse(y_val, y_pred_full_batch)}\")\n",
    "print(f\"MSE (SGD Mini-Batch): {calculate_mse(y_val, y_pred_sgd)}\")"
   ]
  }
 ],
 "metadata": {
  "kernelspec": {
   "display_name": "emia6500",
   "language": "python",
   "name": "python3"
  },
  "language_info": {
   "codemirror_mode": {
    "name": "ipython",
    "version": 3
   },
   "file_extension": ".py",
   "mimetype": "text/x-python",
   "name": "python",
   "nbconvert_exporter": "python",
   "pygments_lexer": "ipython3",
   "version": "3.11.7"
  }
 },
 "nbformat": 4,
 "nbformat_minor": 2
}
